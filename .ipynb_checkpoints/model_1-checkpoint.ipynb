{
 "cells": [
  {
   "cell_type": "code",
   "execution_count": null,
   "metadata": {},
   "outputs": [],
   "source": [
    "# Update sklearn to prevent version mismatches\n",
    "!pip install sklearn --upgrade"
   ]
  },
  {
   "cell_type": "code",
   "execution_count": null,
   "metadata": {},
   "outputs": [],
   "source": [
    "# install joblib. This will be used to save your model. \n",
    "# Restart your kernel after installing \n",
    "!pip install joblib"
   ]
  },
  {
   "cell_type": "code",
   "execution_count": 1,
   "metadata": {},
   "outputs": [],
   "source": [
    "import pandas as pd\n",
    "from sklearn import tree\n",
    "from sklearn.preprocessing import OneHotEncoder, MinMaxScaler\n",
    "from sklearn.model_selection import train_test_split, GridSearchCV\n",
    "from sklearn.ensemble import ExtraTreesClassifier, RandomForestClassifier\n",
    "from sklearn.feature_selection import SelectFromModel\n",
    "from sklearn.neighbors import KNeighborsClassifier\n",
    "import joblib"
   ]
  },
  {
   "cell_type": "code",
   "execution_count": 2,
   "metadata": {},
   "outputs": [],
   "source": [
    "df = pd.read_csv(\"exoplanet_data.csv\")\n",
    "# Drop the null columns where all values are null\n",
    "df = df.dropna(axis='columns', how='all')\n",
    "# Drop the null rows\n",
    "df = df.dropna()"
   ]
  },
  {
   "cell_type": "code",
   "execution_count": 3,
   "metadata": {},
   "outputs": [
    {
     "name": "stdout",
     "output_type": "stream",
     "text": [
      "(6991, 40) (6991, 1)\n"
     ]
    }
   ],
   "source": [
    "# Set features. This will also be used as your x values.\n",
    "X = df.drop('koi_disposition', axis=1)\n",
    "y = df['koi_disposition'].values.reshape(-1, 1)\n",
    "print(X.shape, y.shape)"
   ]
  },
  {
   "cell_type": "code",
   "execution_count": 4,
   "metadata": {},
   "outputs": [
    {
     "data": {
      "text/plain": [
       "<1x3 sparse matrix of type '<class 'numpy.float64'>'\n",
       "\twith 1 stored elements in Compressed Sparse Row format>"
      ]
     },
     "execution_count": 4,
     "metadata": {},
     "output_type": "execute_result"
    }
   ],
   "source": [
    "# Step 1: Label-encode data set\n",
    "label_encoder = OneHotEncoder()\n",
    "label_encoder.fit(y)\n",
    "encoded_y = label_encoder.transform(y)\n",
    "\n",
    "encoded_y[1]"
   ]
  },
  {
   "cell_type": "code",
   "execution_count": 5,
   "metadata": {},
   "outputs": [
    {
     "data": {
      "text/plain": [
       "(6991, 7)"
      ]
     },
     "execution_count": 5,
     "metadata": {},
     "output_type": "execute_result"
    }
   ],
   "source": [
    "clf = ExtraTreesClassifier(n_estimators=50)\n",
    "clf = clf.fit(X, encoded_y.toarray())\n",
    "clf.feature_importances_  \n",
    "\n",
    "model = SelectFromModel(clf, prefit=True)\n",
    "X_new = model.transform(X)\n",
    "X_new.shape               "
   ]
  },
  {
   "cell_type": "code",
   "execution_count": 6,
   "metadata": {},
   "outputs": [],
   "source": [
    "# Scale your data\n",
    "\n",
    "\n",
    "scaler = MinMaxScaler()\n",
    "\n",
    "X_scaler = scaler.fit_transform(X_new)"
   ]
  },
  {
   "cell_type": "code",
   "execution_count": 7,
   "metadata": {},
   "outputs": [],
   "source": [
    "\n",
    "\n",
    "X_train, X_test, y_train, y_test = train_test_split(X_new, encoded_y, random_state=42)"
   ]
  },
  {
   "cell_type": "code",
   "execution_count": 8,
   "metadata": {},
   "outputs": [
    {
     "data": {
      "text/plain": [
       "array([[ 0.000e+00,  0.000e+00,  0.000e+00, ...,  3.060e-01, -3.060e-01,\n",
       "         1.080e+01],\n",
       "       [ 0.000e+00,  1.000e+00,  0.000e+00, ...,  2.820e-01, -2.820e-01,\n",
       "         1.380e+01],\n",
       "       [ 1.000e+00,  0.000e+00,  0.000e+00, ...,  0.000e+00,  0.000e+00,\n",
       "         2.543e+02],\n",
       "       ...,\n",
       "       [ 0.000e+00,  1.000e+00,  0.000e+00, ...,  3.060e-03, -3.060e-03,\n",
       "         4.710e+02],\n",
       "       [ 1.000e+00,  0.000e+00,  0.000e+00, ...,  4.600e+00, -4.600e+00,\n",
       "         7.950e+01],\n",
       "       [ 0.000e+00,  0.000e+00,  1.000e+00, ...,  1.760e-01, -1.760e-01,\n",
       "         3.680e+01]])"
      ]
     },
     "execution_count": 8,
     "metadata": {},
     "output_type": "execute_result"
    }
   ],
   "source": [
    "X_train"
   ]
  },
  {
   "cell_type": "markdown",
   "metadata": {},
   "source": [
    "# Train the Model\n",
    "\n"
   ]
  },
  {
   "cell_type": "code",
   "execution_count": 9,
   "metadata": {},
   "outputs": [
    {
     "data": {
      "text/plain": [
       "0.818649885583524"
      ]
     },
     "execution_count": 9,
     "metadata": {},
     "output_type": "execute_result"
    }
   ],
   "source": [
    "clf = tree.DecisionTreeClassifier()\n",
    "clf = clf.fit(X_train, y_train.toarray())\n",
    "clf.score(X_test, y_test.toarray())"
   ]
  },
  {
   "cell_type": "code",
   "execution_count": 10,
   "metadata": {},
   "outputs": [
    {
     "data": {
      "text/plain": [
       "0.8581235697940504"
      ]
     },
     "execution_count": 10,
     "metadata": {},
     "output_type": "execute_result"
    }
   ],
   "source": [
    "\n",
    "\n",
    "rf = RandomForestClassifier(n_estimators=200)\n",
    "rf = rf.fit(X_train, y_train.toarray())\n",
    "rf.score(X_test, y_test.toarray())"
   ]
  },
  {
   "cell_type": "markdown",
   "metadata": {},
   "source": [
    "# Hyperparameter Tuning\n",
    "\n",
    "Use `GridSearchCV` to tune the model's parameters"
   ]
  },
  {
   "cell_type": "code",
   "execution_count": 11,
   "metadata": {},
   "outputs": [
    {
     "name": "stdout",
     "output_type": "stream",
     "text": [
      "Fitting 5 folds for each of 16 candidates, totalling 80 fits\n",
      "[CV] criterion=gini, max_leaf_nodes=13, splitter=best ................\n",
      "[CV]  criterion=gini, max_leaf_nodes=13, splitter=best, score=0.887, total=   0.0s\n",
      "[CV] criterion=gini, max_leaf_nodes=13, splitter=best ................\n",
      "[CV]  criterion=gini, max_leaf_nodes=13, splitter=best, score=0.879, total=   0.0s\n",
      "[CV] criterion=gini, max_leaf_nodes=13, splitter=best ................\n",
      "[CV]  criterion=gini, max_leaf_nodes=13, splitter=best, score=0.883, total=   0.0s\n",
      "[CV] criterion=gini, max_leaf_nodes=13, splitter=best ................\n",
      "[CV]  criterion=gini, max_leaf_nodes=13, splitter=best, score=0.865, total=   0.0s\n",
      "[CV] criterion=gini, max_leaf_nodes=13, splitter=best ................\n",
      "[CV]  criterion=gini, max_leaf_nodes=13, splitter=best, score=0.864, total=   0.0s\n",
      "[CV] criterion=gini, max_leaf_nodes=13, splitter=random ..............\n",
      "[CV]  criterion=gini, max_leaf_nodes=13, splitter=random, score=0.871, total=   0.0s\n",
      "[CV] criterion=gini, max_leaf_nodes=13, splitter=random ..............\n",
      "[CV]  criterion=gini, max_leaf_nodes=13, splitter=random, score=0.853, total=   0.0s\n",
      "[CV] criterion=gini, max_leaf_nodes=13, splitter=random ..............\n",
      "[CV]  criterion=gini, max_leaf_nodes=13, splitter=random, score=0.864, total=   0.0s\n",
      "[CV] criterion=gini, max_leaf_nodes=13, splitter=random ..............\n",
      "[CV]  criterion=gini, max_leaf_nodes=13, splitter=random, score=0.840, total=   0.0s\n",
      "[CV] criterion=gini, max_leaf_nodes=13, splitter=random ..............\n",
      "[CV]  criterion=gini, max_leaf_nodes=13, splitter=random, score=0.847, total=   0.0s\n",
      "[CV] criterion=gini, max_leaf_nodes=47, splitter=best ................\n",
      "[CV]  criterion=gini, max_leaf_nodes=47, splitter=best, score=0.885, total=   0.0s\n",
      "[CV] criterion=gini, max_leaf_nodes=47, splitter=best ................\n",
      "[CV]  criterion=gini, max_leaf_nodes=47, splitter=best, score=0.871, total=   0.0s\n",
      "[CV] criterion=gini, max_leaf_nodes=47, splitter=best ................\n",
      "[CV]  criterion=gini, max_leaf_nodes=47, splitter=best, score=0.867, total=   0.0s\n",
      "[CV] criterion=gini, max_leaf_nodes=47, splitter=best ................\n",
      "[CV]  criterion=gini, max_leaf_nodes=47, splitter=best, score=0.854, total=   0.0s\n",
      "[CV] criterion=gini, max_leaf_nodes=47, splitter=best ................\n",
      "[CV]  criterion=gini, max_leaf_nodes=47, splitter=best, score=0.859, total=   0.0s\n",
      "[CV] criterion=gini, max_leaf_nodes=47, splitter=random ..............\n",
      "[CV]  criterion=gini, max_leaf_nodes=47, splitter=random, score=0.866, total=   0.0s\n",
      "[CV] criterion=gini, max_leaf_nodes=47, splitter=random ..............\n",
      "[CV]  criterion=gini, max_leaf_nodes=47, splitter=random, score=0.865, total=   0.0s\n",
      "[CV] criterion=gini, max_leaf_nodes=47, splitter=random ..............\n",
      "[CV]  criterion=gini, max_leaf_nodes=47, splitter=random, score=0.882, total=   0.0s\n",
      "[CV] criterion=gini, max_leaf_nodes=47, splitter=random ..............\n",
      "[CV]  criterion=gini, max_leaf_nodes=47, splitter=random, score=0.853, total=   0.0s\n",
      "[CV] criterion=gini, max_leaf_nodes=47, splitter=random ..............\n",
      "[CV]  criterion=gini, max_leaf_nodes=47, splitter=random, score=0.865, total=   0.0s\n",
      "[CV] criterion=gini, max_leaf_nodes=69, splitter=best ................\n",
      "[CV]  criterion=gini, max_leaf_nodes=69, splitter=best, score=0.886, total=   0.0s\n",
      "[CV] criterion=gini, max_leaf_nodes=69, splitter=best ................\n",
      "[CV]  criterion=gini, max_leaf_nodes=69, splitter=best, score=0.867, total=   0.0s\n",
      "[CV] criterion=gini, max_leaf_nodes=69, splitter=best ................\n",
      "[CV]  criterion=gini, max_leaf_nodes=69, splitter=best, score=0.859, total=   0.0s\n",
      "[CV] criterion=gini, max_leaf_nodes=69, splitter=best ................\n",
      "[CV]  criterion=gini, max_leaf_nodes=69, splitter=best, score=0.857, total=   0.0s\n",
      "[CV] criterion=gini, max_leaf_nodes=69, splitter=best ................\n",
      "[CV]  criterion=gini, max_leaf_nodes=69, splitter=best, score=0.857, total=   0.0s\n",
      "[CV] criterion=gini, max_leaf_nodes=69, splitter=random ..............\n",
      "[CV]  criterion=gini, max_leaf_nodes=69, splitter=random, score=0.864, total=   0.0s\n",
      "[CV] criterion=gini, max_leaf_nodes=69, splitter=random ..............\n",
      "[CV]  criterion=gini, max_leaf_nodes=69, splitter=random, score=0.864, total=   0.0s\n",
      "[CV] criterion=gini, max_leaf_nodes=69, splitter=random ..............\n",
      "[CV]  criterion=gini, max_leaf_nodes=69, splitter=random, score=0.865, total=   0.0s\n",
      "[CV] criterion=gini, max_leaf_nodes=69, splitter=random ..............\n"
     ]
    },
    {
     "name": "stderr",
     "output_type": "stream",
     "text": [
      "[Parallel(n_jobs=1)]: Using backend SequentialBackend with 1 concurrent workers.\n",
      "[Parallel(n_jobs=1)]: Done   1 out of   1 | elapsed:    0.0s remaining:    0.0s\n",
      "[Parallel(n_jobs=1)]: Done   2 out of   2 | elapsed:    0.0s remaining:    0.0s\n"
     ]
    },
    {
     "name": "stdout",
     "output_type": "stream",
     "text": [
      "[CV]  criterion=gini, max_leaf_nodes=69, splitter=random, score=0.866, total=   0.0s\n",
      "[CV] criterion=gini, max_leaf_nodes=69, splitter=random ..............\n",
      "[CV]  criterion=gini, max_leaf_nodes=69, splitter=random, score=0.859, total=   0.0s\n",
      "[CV] criterion=gini, max_leaf_nodes=420, splitter=best ...............\n",
      "[CV]  criterion=gini, max_leaf_nodes=420, splitter=best, score=0.846, total=   0.0s\n",
      "[CV] criterion=gini, max_leaf_nodes=420, splitter=best ...............\n",
      "[CV]  criterion=gini, max_leaf_nodes=420, splitter=best, score=0.815, total=   0.0s\n",
      "[CV] criterion=gini, max_leaf_nodes=420, splitter=best ...............\n",
      "[CV]  criterion=gini, max_leaf_nodes=420, splitter=best, score=0.847, total=   0.0s\n",
      "[CV] criterion=gini, max_leaf_nodes=420, splitter=best ...............\n",
      "[CV]  criterion=gini, max_leaf_nodes=420, splitter=best, score=0.844, total=   0.0s\n",
      "[CV] criterion=gini, max_leaf_nodes=420, splitter=best ...............\n",
      "[CV]  criterion=gini, max_leaf_nodes=420, splitter=best, score=0.847, total=   0.0s\n",
      "[CV] criterion=gini, max_leaf_nodes=420, splitter=random .............\n",
      "[CV]  criterion=gini, max_leaf_nodes=420, splitter=random, score=0.858, total=   0.0s\n",
      "[CV] criterion=gini, max_leaf_nodes=420, splitter=random .............\n",
      "[CV]  criterion=gini, max_leaf_nodes=420, splitter=random, score=0.856, total=   0.0s\n",
      "[CV] criterion=gini, max_leaf_nodes=420, splitter=random .............\n",
      "[CV]  criterion=gini, max_leaf_nodes=420, splitter=random, score=0.867, total=   0.0s\n",
      "[CV] criterion=gini, max_leaf_nodes=420, splitter=random .............\n",
      "[CV]  criterion=gini, max_leaf_nodes=420, splitter=random, score=0.834, total=   0.0s\n",
      "[CV] criterion=gini, max_leaf_nodes=420, splitter=random .............\n",
      "[CV]  criterion=gini, max_leaf_nodes=420, splitter=random, score=0.849, total=   0.0s\n",
      "[CV] criterion=entropy, max_leaf_nodes=13, splitter=best .............\n",
      "[CV]  criterion=entropy, max_leaf_nodes=13, splitter=best, score=0.885, total=   0.0s\n",
      "[CV] criterion=entropy, max_leaf_nodes=13, splitter=best .............\n",
      "[CV]  criterion=entropy, max_leaf_nodes=13, splitter=best, score=0.880, total=   0.0s\n",
      "[CV] criterion=entropy, max_leaf_nodes=13, splitter=best .............\n",
      "[CV]  criterion=entropy, max_leaf_nodes=13, splitter=best, score=0.878, total=   0.0s\n",
      "[CV] criterion=entropy, max_leaf_nodes=13, splitter=best .............\n",
      "[CV]  criterion=entropy, max_leaf_nodes=13, splitter=best, score=0.865, total=   0.0s\n",
      "[CV] criterion=entropy, max_leaf_nodes=13, splitter=best .............\n",
      "[CV]  criterion=entropy, max_leaf_nodes=13, splitter=best, score=0.863, total=   0.0s\n",
      "[CV] criterion=entropy, max_leaf_nodes=13, splitter=random ...........\n",
      "[CV]  criterion=entropy, max_leaf_nodes=13, splitter=random, score=0.874, total=   0.0s\n",
      "[CV] criterion=entropy, max_leaf_nodes=13, splitter=random ...........\n",
      "[CV]  criterion=entropy, max_leaf_nodes=13, splitter=random, score=0.860, total=   0.0s\n",
      "[CV] criterion=entropy, max_leaf_nodes=13, splitter=random ...........\n",
      "[CV]  criterion=entropy, max_leaf_nodes=13, splitter=random, score=0.874, total=   0.0s\n",
      "[CV] criterion=entropy, max_leaf_nodes=13, splitter=random ...........\n",
      "[CV]  criterion=entropy, max_leaf_nodes=13, splitter=random, score=0.840, total=   0.0s\n",
      "[CV] criterion=entropy, max_leaf_nodes=13, splitter=random ...........\n",
      "[CV]  criterion=entropy, max_leaf_nodes=13, splitter=random, score=0.838, total=   0.0s\n",
      "[CV] criterion=entropy, max_leaf_nodes=47, splitter=best .............\n",
      "[CV]  criterion=entropy, max_leaf_nodes=47, splitter=best, score=0.873, total=   0.0s\n",
      "[CV] criterion=entropy, max_leaf_nodes=47, splitter=best .............\n",
      "[CV]  criterion=entropy, max_leaf_nodes=47, splitter=best, score=0.885, total=   0.0s\n",
      "[CV] criterion=entropy, max_leaf_nodes=47, splitter=best .............\n",
      "[CV]  criterion=entropy, max_leaf_nodes=47, splitter=best, score=0.876, total=   0.0s\n",
      "[CV] criterion=entropy, max_leaf_nodes=47, splitter=best .............\n",
      "[CV]  criterion=entropy, max_leaf_nodes=47, splitter=best, score=0.863, total=   0.0s\n",
      "[CV] criterion=entropy, max_leaf_nodes=47, splitter=best .............\n",
      "[CV]  criterion=entropy, max_leaf_nodes=47, splitter=best, score=0.833, total=   0.0s\n",
      "[CV] criterion=entropy, max_leaf_nodes=47, splitter=random ...........\n",
      "[CV]  criterion=entropy, max_leaf_nodes=47, splitter=random, score=0.867, total=   0.0s\n",
      "[CV] criterion=entropy, max_leaf_nodes=47, splitter=random ...........\n",
      "[CV]  criterion=entropy, max_leaf_nodes=47, splitter=random, score=0.861, total=   0.0s\n",
      "[CV] criterion=entropy, max_leaf_nodes=47, splitter=random ...........\n",
      "[CV]  criterion=entropy, max_leaf_nodes=47, splitter=random, score=0.869, total=   0.0s\n",
      "[CV] criterion=entropy, max_leaf_nodes=47, splitter=random ...........\n",
      "[CV]  criterion=entropy, max_leaf_nodes=47, splitter=random, score=0.846, total=   0.0s\n",
      "[CV] criterion=entropy, max_leaf_nodes=47, splitter=random ...........\n",
      "[CV]  criterion=entropy, max_leaf_nodes=47, splitter=random, score=0.840, total=   0.0s\n",
      "[CV] criterion=entropy, max_leaf_nodes=69, splitter=best .............\n",
      "[CV]  criterion=entropy, max_leaf_nodes=69, splitter=best, score=0.873, total=   0.0s\n",
      "[CV] criterion=entropy, max_leaf_nodes=69, splitter=best .............\n",
      "[CV]  criterion=entropy, max_leaf_nodes=69, splitter=best, score=0.885, total=   0.0s\n",
      "[CV] criterion=entropy, max_leaf_nodes=69, splitter=best .............\n",
      "[CV]  criterion=entropy, max_leaf_nodes=69, splitter=best, score=0.874, total=   0.0s\n",
      "[CV] criterion=entropy, max_leaf_nodes=69, splitter=best .............\n",
      "[CV]  criterion=entropy, max_leaf_nodes=69, splitter=best, score=0.860, total=   0.0s\n",
      "[CV] criterion=entropy, max_leaf_nodes=69, splitter=best .............\n",
      "[CV]  criterion=entropy, max_leaf_nodes=69, splitter=best, score=0.826, total=   0.0s\n",
      "[CV] criterion=entropy, max_leaf_nodes=69, splitter=random ...........\n",
      "[CV]  criterion=entropy, max_leaf_nodes=69, splitter=random, score=0.867, total=   0.0s\n",
      "[CV] criterion=entropy, max_leaf_nodes=69, splitter=random ...........\n",
      "[CV]  criterion=entropy, max_leaf_nodes=69, splitter=random, score=0.852, total=   0.0s\n",
      "[CV] criterion=entropy, max_leaf_nodes=69, splitter=random ...........\n",
      "[CV]  criterion=entropy, max_leaf_nodes=69, splitter=random, score=0.866, total=   0.0s\n",
      "[CV] criterion=entropy, max_leaf_nodes=69, splitter=random ...........\n",
      "[CV]  criterion=entropy, max_leaf_nodes=69, splitter=random, score=0.838, total=   0.0s\n",
      "[CV] criterion=entropy, max_leaf_nodes=69, splitter=random ...........\n",
      "[CV]  criterion=entropy, max_leaf_nodes=69, splitter=random, score=0.859, total=   0.0s\n",
      "[CV] criterion=entropy, max_leaf_nodes=420, splitter=best ............\n",
      "[CV]  criterion=entropy, max_leaf_nodes=420, splitter=best, score=0.837, total=   0.0s\n",
      "[CV] criterion=entropy, max_leaf_nodes=420, splitter=best ............\n",
      "[CV]  criterion=entropy, max_leaf_nodes=420, splitter=best, score=0.828, total=   0.0s\n",
      "[CV] criterion=entropy, max_leaf_nodes=420, splitter=best ............\n",
      "[CV]  criterion=entropy, max_leaf_nodes=420, splitter=best, score=0.833, total=   0.0s\n",
      "[CV] criterion=entropy, max_leaf_nodes=420, splitter=best ............\n",
      "[CV]  criterion=entropy, max_leaf_nodes=420, splitter=best, score=0.834, total=   0.0s\n",
      "[CV] criterion=entropy, max_leaf_nodes=420, splitter=best ............\n",
      "[CV]  criterion=entropy, max_leaf_nodes=420, splitter=best, score=0.838, total=   0.0s\n",
      "[CV] criterion=entropy, max_leaf_nodes=420, splitter=random ..........\n",
      "[CV]  criterion=entropy, max_leaf_nodes=420, splitter=random, score=0.856, total=   0.0s\n",
      "[CV] criterion=entropy, max_leaf_nodes=420, splitter=random ..........\n",
      "[CV]  criterion=entropy, max_leaf_nodes=420, splitter=random, score=0.836, total=   0.0s\n",
      "[CV] criterion=entropy, max_leaf_nodes=420, splitter=random ..........\n",
      "[CV]  criterion=entropy, max_leaf_nodes=420, splitter=random, score=0.871, total=   0.0s\n",
      "[CV] criterion=entropy, max_leaf_nodes=420, splitter=random ..........\n",
      "[CV]  criterion=entropy, max_leaf_nodes=420, splitter=random, score=0.844, total=   0.0s\n",
      "[CV] criterion=entropy, max_leaf_nodes=420, splitter=random ..........\n",
      "[CV]  criterion=entropy, max_leaf_nodes=420, splitter=random, score=0.833, total=   0.0s\n"
     ]
    },
    {
     "name": "stderr",
     "output_type": "stream",
     "text": [
      "[Parallel(n_jobs=1)]: Done  80 out of  80 | elapsed:    0.6s finished\n"
     ]
    },
    {
     "data": {
      "text/plain": [
       "0.8861556064073226"
      ]
     },
     "execution_count": 11,
     "metadata": {},
     "output_type": "execute_result"
    }
   ],
   "source": [
    "# Create the GridSearch estimator along with a parameter object containing the values to adjust\n",
    "\n",
    "\n",
    "t = tree.DecisionTreeClassifier()\n",
    "\n",
    "param_grid = {'criterion': ['gini', 'entropy'],\n",
    "              'splitter': ['best', 'random'],\n",
    "              'max_leaf_nodes': [13, 47, 69, 420]}\n",
    "grid_clf = GridSearchCV(t, param_grid, verbose=3)\n",
    "\n",
    "grid_clf.fit(X_train, y_train.toarray())\n",
    "\n",
    "grid_clf.score(X_test, y_test.toarray())"
   ]
  },
  {
   "cell_type": "code",
   "execution_count": 12,
   "metadata": {},
   "outputs": [
    {
     "name": "stdout",
     "output_type": "stream",
     "text": [
      "Fitting 5 folds for each of 12 candidates, totalling 60 fits\n",
      "[CV] metric=minkowski, n_neighbors=1 .................................\n",
      "[CV] ..... metric=minkowski, n_neighbors=1, score=0.795, total=   0.1s\n",
      "[CV] metric=minkowski, n_neighbors=1 .................................\n",
      "[CV] ..... metric=minkowski, n_neighbors=1, score=0.766, total=   0.1s\n",
      "[CV] metric=minkowski, n_neighbors=1 .................................\n"
     ]
    },
    {
     "name": "stderr",
     "output_type": "stream",
     "text": [
      "[Parallel(n_jobs=1)]: Using backend SequentialBackend with 1 concurrent workers.\n",
      "[Parallel(n_jobs=1)]: Done   1 out of   1 | elapsed:    0.0s remaining:    0.0s\n",
      "[Parallel(n_jobs=1)]: Done   2 out of   2 | elapsed:    0.0s remaining:    0.0s\n"
     ]
    },
    {
     "name": "stdout",
     "output_type": "stream",
     "text": [
      "[CV] ..... metric=minkowski, n_neighbors=1, score=0.786, total=   0.1s\n",
      "[CV] metric=minkowski, n_neighbors=1 .................................\n",
      "[CV] ..... metric=minkowski, n_neighbors=1, score=0.785, total=   0.1s\n",
      "[CV] metric=minkowski, n_neighbors=1 .................................\n",
      "[CV] ..... metric=minkowski, n_neighbors=1, score=0.786, total=   0.1s\n",
      "[CV] metric=minkowski, n_neighbors=3 .................................\n",
      "[CV] ..... metric=minkowski, n_neighbors=3, score=0.809, total=   0.1s\n",
      "[CV] metric=minkowski, n_neighbors=3 .................................\n",
      "[CV] ..... metric=minkowski, n_neighbors=3, score=0.801, total=   0.1s\n",
      "[CV] metric=minkowski, n_neighbors=3 .................................\n",
      "[CV] ..... metric=minkowski, n_neighbors=3, score=0.813, total=   0.1s\n",
      "[CV] metric=minkowski, n_neighbors=3 .................................\n",
      "[CV] ..... metric=minkowski, n_neighbors=3, score=0.796, total=   0.1s\n",
      "[CV] metric=minkowski, n_neighbors=3 .................................\n",
      "[CV] ..... metric=minkowski, n_neighbors=3, score=0.789, total=   0.1s\n",
      "[CV] metric=minkowski, n_neighbors=5 .................................\n",
      "[CV] ..... metric=minkowski, n_neighbors=5, score=0.793, total=   0.1s\n",
      "[CV] metric=minkowski, n_neighbors=5 .................................\n",
      "[CV] ..... metric=minkowski, n_neighbors=5, score=0.784, total=   0.1s\n",
      "[CV] metric=minkowski, n_neighbors=5 .................................\n",
      "[CV] ..... metric=minkowski, n_neighbors=5, score=0.802, total=   0.1s\n",
      "[CV] metric=minkowski, n_neighbors=5 .................................\n",
      "[CV] ..... metric=minkowski, n_neighbors=5, score=0.785, total=   0.1s\n",
      "[CV] metric=minkowski, n_neighbors=5 .................................\n",
      "[CV] ..... metric=minkowski, n_neighbors=5, score=0.766, total=   0.1s\n",
      "[CV] metric=minkowski, n_neighbors=7 .................................\n",
      "[CV] ..... metric=minkowski, n_neighbors=7, score=0.789, total=   0.1s\n",
      "[CV] metric=minkowski, n_neighbors=7 .................................\n",
      "[CV] ..... metric=minkowski, n_neighbors=7, score=0.766, total=   0.1s\n",
      "[CV] metric=minkowski, n_neighbors=7 .................................\n",
      "[CV] ..... metric=minkowski, n_neighbors=7, score=0.804, total=   0.1s\n",
      "[CV] metric=minkowski, n_neighbors=7 .................................\n",
      "[CV] ..... metric=minkowski, n_neighbors=7, score=0.787, total=   0.1s\n",
      "[CV] metric=minkowski, n_neighbors=7 .................................\n",
      "[CV] ..... metric=minkowski, n_neighbors=7, score=0.763, total=   0.1s\n",
      "[CV] metric=euclidean, n_neighbors=1 .................................\n",
      "[CV] ..... metric=euclidean, n_neighbors=1, score=0.795, total=   0.1s\n",
      "[CV] metric=euclidean, n_neighbors=1 .................................\n",
      "[CV] ..... metric=euclidean, n_neighbors=1, score=0.766, total=   0.1s\n",
      "[CV] metric=euclidean, n_neighbors=1 .................................\n",
      "[CV] ..... metric=euclidean, n_neighbors=1, score=0.786, total=   0.1s\n",
      "[CV] metric=euclidean, n_neighbors=1 .................................\n",
      "[CV] ..... metric=euclidean, n_neighbors=1, score=0.785, total=   0.1s\n",
      "[CV] metric=euclidean, n_neighbors=1 .................................\n",
      "[CV] ..... metric=euclidean, n_neighbors=1, score=0.786, total=   0.1s\n",
      "[CV] metric=euclidean, n_neighbors=3 .................................\n",
      "[CV] ..... metric=euclidean, n_neighbors=3, score=0.809, total=   0.1s\n",
      "[CV] metric=euclidean, n_neighbors=3 .................................\n",
      "[CV] ..... metric=euclidean, n_neighbors=3, score=0.801, total=   0.1s\n",
      "[CV] metric=euclidean, n_neighbors=3 .................................\n",
      "[CV] ..... metric=euclidean, n_neighbors=3, score=0.813, total=   0.1s\n",
      "[CV] metric=euclidean, n_neighbors=3 .................................\n",
      "[CV] ..... metric=euclidean, n_neighbors=3, score=0.796, total=   0.1s\n",
      "[CV] metric=euclidean, n_neighbors=3 .................................\n",
      "[CV] ..... metric=euclidean, n_neighbors=3, score=0.789, total=   0.1s\n",
      "[CV] metric=euclidean, n_neighbors=5 .................................\n",
      "[CV] ..... metric=euclidean, n_neighbors=5, score=0.793, total=   0.1s\n",
      "[CV] metric=euclidean, n_neighbors=5 .................................\n",
      "[CV] ..... metric=euclidean, n_neighbors=5, score=0.784, total=   0.1s\n",
      "[CV] metric=euclidean, n_neighbors=5 .................................\n",
      "[CV] ..... metric=euclidean, n_neighbors=5, score=0.802, total=   0.1s\n",
      "[CV] metric=euclidean, n_neighbors=5 .................................\n",
      "[CV] ..... metric=euclidean, n_neighbors=5, score=0.785, total=   0.1s\n",
      "[CV] metric=euclidean, n_neighbors=5 .................................\n",
      "[CV] ..... metric=euclidean, n_neighbors=5, score=0.766, total=   0.1s\n",
      "[CV] metric=euclidean, n_neighbors=7 .................................\n",
      "[CV] ..... metric=euclidean, n_neighbors=7, score=0.789, total=   0.1s\n",
      "[CV] metric=euclidean, n_neighbors=7 .................................\n",
      "[CV] ..... metric=euclidean, n_neighbors=7, score=0.766, total=   0.1s\n",
      "[CV] metric=euclidean, n_neighbors=7 .................................\n",
      "[CV] ..... metric=euclidean, n_neighbors=7, score=0.804, total=   0.1s\n",
      "[CV] metric=euclidean, n_neighbors=7 .................................\n",
      "[CV] ..... metric=euclidean, n_neighbors=7, score=0.787, total=   0.1s\n",
      "[CV] metric=euclidean, n_neighbors=7 .................................\n",
      "[CV] ..... metric=euclidean, n_neighbors=7, score=0.763, total=   0.1s\n",
      "[CV] metric=manhattan, n_neighbors=1 .................................\n",
      "[CV] ..... metric=manhattan, n_neighbors=1, score=0.806, total=   0.1s\n",
      "[CV] metric=manhattan, n_neighbors=1 .................................\n",
      "[CV] ..... metric=manhattan, n_neighbors=1, score=0.766, total=   0.1s\n",
      "[CV] metric=manhattan, n_neighbors=1 .................................\n",
      "[CV] ..... metric=manhattan, n_neighbors=1, score=0.790, total=   0.1s\n",
      "[CV] metric=manhattan, n_neighbors=1 .................................\n",
      "[CV] ..... metric=manhattan, n_neighbors=1, score=0.791, total=   0.1s\n",
      "[CV] metric=manhattan, n_neighbors=1 .................................\n",
      "[CV] ..... metric=manhattan, n_neighbors=1, score=0.785, total=   0.1s\n",
      "[CV] metric=manhattan, n_neighbors=3 .................................\n",
      "[CV] ..... metric=manhattan, n_neighbors=3, score=0.808, total=   0.1s\n",
      "[CV] metric=manhattan, n_neighbors=3 .................................\n",
      "[CV] ..... metric=manhattan, n_neighbors=3, score=0.797, total=   0.1s\n",
      "[CV] metric=manhattan, n_neighbors=3 .................................\n",
      "[CV] ..... metric=manhattan, n_neighbors=3, score=0.817, total=   0.1s\n",
      "[CV] metric=manhattan, n_neighbors=3 .................................\n",
      "[CV] ..... metric=manhattan, n_neighbors=3, score=0.802, total=   0.1s\n",
      "[CV] metric=manhattan, n_neighbors=3 .................................\n",
      "[CV] ..... metric=manhattan, n_neighbors=3, score=0.791, total=   0.1s\n",
      "[CV] metric=manhattan, n_neighbors=5 .................................\n",
      "[CV] ..... metric=manhattan, n_neighbors=5, score=0.806, total=   0.1s\n",
      "[CV] metric=manhattan, n_neighbors=5 .................................\n",
      "[CV] ..... metric=manhattan, n_neighbors=5, score=0.786, total=   0.1s\n",
      "[CV] metric=manhattan, n_neighbors=5 .................................\n",
      "[CV] ..... metric=manhattan, n_neighbors=5, score=0.807, total=   0.1s\n",
      "[CV] metric=manhattan, n_neighbors=5 .................................\n",
      "[CV] ..... metric=manhattan, n_neighbors=5, score=0.790, total=   0.1s\n",
      "[CV] metric=manhattan, n_neighbors=5 .................................\n",
      "[CV] ..... metric=manhattan, n_neighbors=5, score=0.770, total=   0.1s\n",
      "[CV] metric=manhattan, n_neighbors=7 .................................\n",
      "[CV] ..... metric=manhattan, n_neighbors=7, score=0.796, total=   0.1s\n",
      "[CV] metric=manhattan, n_neighbors=7 .................................\n",
      "[CV] ..... metric=manhattan, n_neighbors=7, score=0.774, total=   0.1s\n",
      "[CV] metric=manhattan, n_neighbors=7 .................................\n",
      "[CV] ..... metric=manhattan, n_neighbors=7, score=0.809, total=   0.1s\n",
      "[CV] metric=manhattan, n_neighbors=7 .................................\n",
      "[CV] ..... metric=manhattan, n_neighbors=7, score=0.797, total=   0.1s\n",
      "[CV] metric=manhattan, n_neighbors=7 .................................\n",
      "[CV] ..... metric=manhattan, n_neighbors=7, score=0.780, total=   0.1s\n"
     ]
    },
    {
     "name": "stderr",
     "output_type": "stream",
     "text": [
      "[Parallel(n_jobs=1)]: Done  60 out of  60 | elapsed:    4.2s finished\n"
     ]
    },
    {
     "data": {
      "text/plain": [
       "0.7974828375286042"
      ]
     },
     "execution_count": 12,
     "metadata": {},
     "output_type": "execute_result"
    }
   ],
   "source": [
    "\n",
    "\n",
    "kn = KNeighborsClassifier()\n",
    "\n",
    "param_grid = {'n_neighbors': [1, 3, 5, 7],\n",
    "              'metric': ['minkowski', 'euclidean', 'manhattan']}\n",
    "\n",
    "grid_clf = GridSearchCV(kn, param_grid, verbose=3)\n",
    "\n",
    "grid_clf.fit(X_train, y_train.toarray())\n",
    "\n",
    "grid_clf.score(X_test, y_test.toarray())"
   ]
  },
  {
   "cell_type": "markdown",
   "metadata": {},
   "source": [
    "# Save the Model"
   ]
  },
  {
   "cell_type": "code",
   "execution_count": null,
   "metadata": {},
   "outputs": [],
   "source": [
    "# save your model by updating \"your_name\" with your name\n",
    "# and \"your_model\" with your model variable\n",
    "# be sure to turn this in to BCS\n",
    "# if joblib fails to import, try running the command to install in terminal/git-bash\n",
    "\n",
    "filename = 'your_name.sav'\n",
    "joblib.dump(your_model, filename)"
   ]
  }
 ],
 "metadata": {
  "kernel_info": {
   "name": "dev"
  },
  "kernelspec": {
   "display_name": "Python [conda env:root]",
   "language": "python",
   "name": "conda-root-py"
  },
  "language_info": {
   "codemirror_mode": {
    "name": "ipython",
    "version": 3
   },
   "file_extension": ".py",
   "mimetype": "text/x-python",
   "name": "python",
   "nbconvert_exporter": "python",
   "pygments_lexer": "ipython3",
   "version": "3.7.6"
  },
  "nteract": {
   "version": "0.12.3"
  }
 },
 "nbformat": 4,
 "nbformat_minor": 2
}
