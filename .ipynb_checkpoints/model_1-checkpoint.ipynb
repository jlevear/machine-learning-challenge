{
 "cells": [
  {
   "cell_type": "code",
   "execution_count": null,
   "metadata": {},
   "outputs": [],
   "source": [
    "# Update sklearn to prevent version mismatches\n",
    "!pip install sklearn --upgrade"
   ]
  },
  {
   "cell_type": "code",
   "execution_count": null,
   "metadata": {},
   "outputs": [],
   "source": [
    "# install joblib. This will be used to save your model. \n",
    "# Restart your kernel after installing \n",
    "!pip install joblib"
   ]
  },
  {
   "cell_type": "code",
   "execution_count": 1,
   "metadata": {},
   "outputs": [],
   "source": [
    "import pandas as pd\n",
    "from sklearn import tree\n",
    "from sklearn.preprocessing import OneHotEncoder, MinMaxScaler\n",
    "from sklearn.model_selection import train_test_split, GridSearchCV\n",
    "from sklearn.ensemble import ExtraTreesClassifier, RandomForestClassifier\n",
    "from sklearn.feature_selection import SelectFromModel\n",
    "from sklearn.neighbors import KNeighborsClassifier\n",
    "import joblib"
   ]
  },
  {
   "cell_type": "code",
   "execution_count": 3,
   "metadata": {},
   "outputs": [
    {
     "data": {
      "text/html": [
       "<div>\n",
       "<style scoped>\n",
       "    .dataframe tbody tr th:only-of-type {\n",
       "        vertical-align: middle;\n",
       "    }\n",
       "\n",
       "    .dataframe tbody tr th {\n",
       "        vertical-align: top;\n",
       "    }\n",
       "\n",
       "    .dataframe thead th {\n",
       "        text-align: right;\n",
       "    }\n",
       "</style>\n",
       "<table border=\"1\" class=\"dataframe\">\n",
       "  <thead>\n",
       "    <tr style=\"text-align: right;\">\n",
       "      <th></th>\n",
       "      <th>koi_disposition</th>\n",
       "      <th>koi_fpflag_nt</th>\n",
       "      <th>koi_fpflag_ss</th>\n",
       "      <th>koi_fpflag_co</th>\n",
       "      <th>koi_fpflag_ec</th>\n",
       "      <th>koi_period</th>\n",
       "      <th>koi_period_err1</th>\n",
       "      <th>koi_period_err2</th>\n",
       "      <th>koi_time0bk</th>\n",
       "      <th>koi_time0bk_err1</th>\n",
       "      <th>...</th>\n",
       "      <th>koi_steff_err2</th>\n",
       "      <th>koi_slogg</th>\n",
       "      <th>koi_slogg_err1</th>\n",
       "      <th>koi_slogg_err2</th>\n",
       "      <th>koi_srad</th>\n",
       "      <th>koi_srad_err1</th>\n",
       "      <th>koi_srad_err2</th>\n",
       "      <th>ra</th>\n",
       "      <th>dec</th>\n",
       "      <th>koi_kepmag</th>\n",
       "    </tr>\n",
       "  </thead>\n",
       "  <tbody>\n",
       "    <tr>\n",
       "      <th>0</th>\n",
       "      <td>CONFIRMED</td>\n",
       "      <td>0</td>\n",
       "      <td>0</td>\n",
       "      <td>0</td>\n",
       "      <td>0</td>\n",
       "      <td>54.418383</td>\n",
       "      <td>2.479000e-04</td>\n",
       "      <td>-2.479000e-04</td>\n",
       "      <td>162.513840</td>\n",
       "      <td>0.003520</td>\n",
       "      <td>...</td>\n",
       "      <td>-81</td>\n",
       "      <td>4.467</td>\n",
       "      <td>0.064</td>\n",
       "      <td>-0.096</td>\n",
       "      <td>0.927</td>\n",
       "      <td>0.105</td>\n",
       "      <td>-0.061</td>\n",
       "      <td>291.93423</td>\n",
       "      <td>48.141651</td>\n",
       "      <td>15.347</td>\n",
       "    </tr>\n",
       "    <tr>\n",
       "      <th>1</th>\n",
       "      <td>FALSE POSITIVE</td>\n",
       "      <td>0</td>\n",
       "      <td>1</td>\n",
       "      <td>0</td>\n",
       "      <td>0</td>\n",
       "      <td>19.899140</td>\n",
       "      <td>1.490000e-05</td>\n",
       "      <td>-1.490000e-05</td>\n",
       "      <td>175.850252</td>\n",
       "      <td>0.000581</td>\n",
       "      <td>...</td>\n",
       "      <td>-176</td>\n",
       "      <td>4.544</td>\n",
       "      <td>0.044</td>\n",
       "      <td>-0.176</td>\n",
       "      <td>0.868</td>\n",
       "      <td>0.233</td>\n",
       "      <td>-0.078</td>\n",
       "      <td>297.00482</td>\n",
       "      <td>48.134129</td>\n",
       "      <td>15.436</td>\n",
       "    </tr>\n",
       "    <tr>\n",
       "      <th>2</th>\n",
       "      <td>FALSE POSITIVE</td>\n",
       "      <td>0</td>\n",
       "      <td>1</td>\n",
       "      <td>0</td>\n",
       "      <td>0</td>\n",
       "      <td>1.736952</td>\n",
       "      <td>2.630000e-07</td>\n",
       "      <td>-2.630000e-07</td>\n",
       "      <td>170.307565</td>\n",
       "      <td>0.000115</td>\n",
       "      <td>...</td>\n",
       "      <td>-174</td>\n",
       "      <td>4.564</td>\n",
       "      <td>0.053</td>\n",
       "      <td>-0.168</td>\n",
       "      <td>0.791</td>\n",
       "      <td>0.201</td>\n",
       "      <td>-0.067</td>\n",
       "      <td>285.53461</td>\n",
       "      <td>48.285210</td>\n",
       "      <td>15.597</td>\n",
       "    </tr>\n",
       "    <tr>\n",
       "      <th>3</th>\n",
       "      <td>CONFIRMED</td>\n",
       "      <td>0</td>\n",
       "      <td>0</td>\n",
       "      <td>0</td>\n",
       "      <td>0</td>\n",
       "      <td>2.525592</td>\n",
       "      <td>3.760000e-06</td>\n",
       "      <td>-3.760000e-06</td>\n",
       "      <td>171.595550</td>\n",
       "      <td>0.001130</td>\n",
       "      <td>...</td>\n",
       "      <td>-211</td>\n",
       "      <td>4.438</td>\n",
       "      <td>0.070</td>\n",
       "      <td>-0.210</td>\n",
       "      <td>1.046</td>\n",
       "      <td>0.334</td>\n",
       "      <td>-0.133</td>\n",
       "      <td>288.75488</td>\n",
       "      <td>48.226200</td>\n",
       "      <td>15.509</td>\n",
       "    </tr>\n",
       "    <tr>\n",
       "      <th>4</th>\n",
       "      <td>CONFIRMED</td>\n",
       "      <td>0</td>\n",
       "      <td>0</td>\n",
       "      <td>0</td>\n",
       "      <td>0</td>\n",
       "      <td>4.134435</td>\n",
       "      <td>1.050000e-05</td>\n",
       "      <td>-1.050000e-05</td>\n",
       "      <td>172.979370</td>\n",
       "      <td>0.001900</td>\n",
       "      <td>...</td>\n",
       "      <td>-232</td>\n",
       "      <td>4.486</td>\n",
       "      <td>0.054</td>\n",
       "      <td>-0.229</td>\n",
       "      <td>0.972</td>\n",
       "      <td>0.315</td>\n",
       "      <td>-0.105</td>\n",
       "      <td>296.28613</td>\n",
       "      <td>48.224670</td>\n",
       "      <td>15.714</td>\n",
       "    </tr>\n",
       "  </tbody>\n",
       "</table>\n",
       "<p>5 rows × 41 columns</p>\n",
       "</div>"
      ],
      "text/plain": [
       "  koi_disposition  koi_fpflag_nt  koi_fpflag_ss  koi_fpflag_co  koi_fpflag_ec  \\\n",
       "0       CONFIRMED              0              0              0              0   \n",
       "1  FALSE POSITIVE              0              1              0              0   \n",
       "2  FALSE POSITIVE              0              1              0              0   \n",
       "3       CONFIRMED              0              0              0              0   \n",
       "4       CONFIRMED              0              0              0              0   \n",
       "\n",
       "   koi_period  koi_period_err1  koi_period_err2  koi_time0bk  \\\n",
       "0   54.418383     2.479000e-04    -2.479000e-04   162.513840   \n",
       "1   19.899140     1.490000e-05    -1.490000e-05   175.850252   \n",
       "2    1.736952     2.630000e-07    -2.630000e-07   170.307565   \n",
       "3    2.525592     3.760000e-06    -3.760000e-06   171.595550   \n",
       "4    4.134435     1.050000e-05    -1.050000e-05   172.979370   \n",
       "\n",
       "   koi_time0bk_err1  ...  koi_steff_err2  koi_slogg  koi_slogg_err1  \\\n",
       "0          0.003520  ...             -81      4.467           0.064   \n",
       "1          0.000581  ...            -176      4.544           0.044   \n",
       "2          0.000115  ...            -174      4.564           0.053   \n",
       "3          0.001130  ...            -211      4.438           0.070   \n",
       "4          0.001900  ...            -232      4.486           0.054   \n",
       "\n",
       "   koi_slogg_err2  koi_srad  koi_srad_err1  koi_srad_err2         ra  \\\n",
       "0          -0.096     0.927          0.105         -0.061  291.93423   \n",
       "1          -0.176     0.868          0.233         -0.078  297.00482   \n",
       "2          -0.168     0.791          0.201         -0.067  285.53461   \n",
       "3          -0.210     1.046          0.334         -0.133  288.75488   \n",
       "4          -0.229     0.972          0.315         -0.105  296.28613   \n",
       "\n",
       "         dec  koi_kepmag  \n",
       "0  48.141651      15.347  \n",
       "1  48.134129      15.436  \n",
       "2  48.285210      15.597  \n",
       "3  48.226200      15.509  \n",
       "4  48.224670      15.714  \n",
       "\n",
       "[5 rows x 41 columns]"
      ]
     },
     "execution_count": 3,
     "metadata": {},
     "output_type": "execute_result"
    }
   ],
   "source": [
    "# Read the csv\n",
    "df = pd.read_csv(\"exoplanet_data.csv\")\n",
    "\n",
    "# Drop the null columns where all values are null\n",
    "df = df.dropna(axis='columns', how='all')\n",
    "\n",
    "# Drop the null rows\n",
    "df = df.dropna()\n",
    "\n",
    "# Show first 5 rows\n",
    "df.head()"
   ]
  },
  {
   "cell_type": "code",
   "execution_count": 5,
   "metadata": {},
   "outputs": [
    {
     "name": "stdout",
     "output_type": "stream",
     "text": [
      "(6991, 40) (6991, 1)\n"
     ]
    }
   ],
   "source": [
    "# Set features and ensure they are the same length\n",
    "X = df.drop('koi_disposition', axis=1)\n",
    "y = df['koi_disposition'].values.reshape(-1, 1)\n",
    "print(X.shape, y.shape)"
   ]
  },
  {
   "cell_type": "code",
   "execution_count": 6,
   "metadata": {},
   "outputs": [
    {
     "data": {
      "text/plain": [
       "<1x3 sparse matrix of type '<class 'numpy.float64'>'\n",
       "\twith 1 stored elements in Compressed Sparse Row format>"
      ]
     },
     "execution_count": 6,
     "metadata": {},
     "output_type": "execute_result"
    }
   ],
   "source": [
    "# Label-encode the dataset with one-hot encoder\n",
    "label_encoder = OneHotEncoder()\n",
    "label_encoder.fit(y)\n",
    "encoded_y = label_encoder.transform(y)\n",
    "\n",
    "encoded_y[1]"
   ]
  },
  {
   "cell_type": "code",
   "execution_count": 7,
   "metadata": {},
   "outputs": [
    {
     "data": {
      "text/plain": [
       "(6991, 7)"
      ]
     },
     "execution_count": 7,
     "metadata": {},
     "output_type": "execute_result"
    }
   ],
   "source": [
    "# Use tree-based estimator to discard irrelevant features \n",
    "clf = ExtraTreesClassifier(n_estimators=50)\n",
    "clf = clf.fit(X, encoded_y.toarray())\n",
    "clf.feature_importances_  \n",
    "\n",
    "model = SelectFromModel(clf, prefit=True)\n",
    "X_new = model.transform(X)\n",
    "X_new.shape               "
   ]
  },
  {
   "cell_type": "code",
   "execution_count": 8,
   "metadata": {},
   "outputs": [],
   "source": [
    "# Scale the numeric data\n",
    "scaler = MinMaxScaler()\n",
    "\n",
    "X_scaler = scaler.fit_transform(X_new)"
   ]
  },
  {
   "cell_type": "code",
   "execution_count": 15,
   "metadata": {},
   "outputs": [
    {
     "data": {
      "text/plain": [
       "(5243, 7)"
      ]
     },
     "execution_count": 15,
     "metadata": {},
     "output_type": "execute_result"
    }
   ],
   "source": [
    "# Separate the data into training and testing data\n",
    "X_train, X_test, y_train, y_test = train_test_split(X_new, encoded_y, random_state=42)\n",
    "X_train.shape"
   ]
  },
  {
   "cell_type": "code",
   "execution_count": 16,
   "metadata": {},
   "outputs": [
    {
     "data": {
      "text/plain": [
       "0.8209382151029748"
      ]
     },
     "execution_count": 16,
     "metadata": {},
     "output_type": "execute_result"
    }
   ],
   "source": [
    "# Train the model using decision tree\n",
    "clf = tree.DecisionTreeClassifier()\n",
    "\n",
    "clf = clf.fit(X_train, y_train.toarray())\n",
    "clf.score(X_test, y_test.toarray())"
   ]
  },
  {
   "cell_type": "code",
   "execution_count": 18,
   "metadata": {},
   "outputs": [
    {
     "data": {
      "text/plain": [
       "0.8581235697940504"
      ]
     },
     "execution_count": 18,
     "metadata": {},
     "output_type": "execute_result"
    }
   ],
   "source": [
    "# Train the model using random forest\n",
    "rf = RandomForestClassifier(n_estimators=200)\n",
    "\n",
    "rf = rf.fit(X_train, y_train.toarray())\n",
    "rf.score(X_test, y_test.toarray())"
   ]
  },
  {
   "cell_type": "code",
   "execution_count": 19,
   "metadata": {},
   "outputs": [
    {
     "name": "stdout",
     "output_type": "stream",
     "text": [
      "Fitting 5 folds for each of 16 candidates, totalling 80 fits\n",
      "[CV] criterion=gini, max_leaf_nodes=13, splitter=best ................\n",
      "[CV]  criterion=gini, max_leaf_nodes=13, splitter=best, score=0.887, total=   0.0s\n",
      "[CV] criterion=gini, max_leaf_nodes=13, splitter=best ................\n",
      "[CV]  criterion=gini, max_leaf_nodes=13, splitter=best, score=0.879, total=   0.0s\n",
      "[CV] criterion=gini, max_leaf_nodes=13, splitter=best ................\n",
      "[CV]  criterion=gini, max_leaf_nodes=13, splitter=best, score=0.883, total=   0.0s\n",
      "[CV] criterion=gini, max_leaf_nodes=13, splitter=best ................\n",
      "[CV]  criterion=gini, max_leaf_nodes=13, splitter=best, score=0.865, total=   0.0s\n",
      "[CV] criterion=gini, max_leaf_nodes=13, splitter=best ................\n",
      "[CV]  criterion=gini, max_leaf_nodes=13, splitter=best, score=0.864, total=   0.0s\n",
      "[CV] criterion=gini, max_leaf_nodes=13, splitter=random ..............\n",
      "[CV]  criterion=gini, max_leaf_nodes=13, splitter=random, score=0.880, total=   0.0s\n",
      "[CV] criterion=gini, max_leaf_nodes=13, splitter=random ..............\n",
      "[CV]  criterion=gini, max_leaf_nodes=13, splitter=random, score=0.888, total=   0.0s\n",
      "[CV] criterion=gini, max_leaf_nodes=13, splitter=random ..............\n",
      "[CV]  criterion=gini, max_leaf_nodes=13, splitter=random, score=0.873, total=   0.0s\n",
      "[CV] criterion=gini, max_leaf_nodes=13, splitter=random ..............\n",
      "[CV]  criterion=gini, max_leaf_nodes=13, splitter=random, score=0.864, total=   0.0s\n",
      "[CV] criterion=gini, max_leaf_nodes=13, splitter=random ..............\n",
      "[CV]  criterion=gini, max_leaf_nodes=13, splitter=random, score=0.856, total=   0.0s\n",
      "[CV] criterion=gini, max_leaf_nodes=47, splitter=best ................\n",
      "[CV]  criterion=gini, max_leaf_nodes=47, splitter=best, score=0.885, total=   0.0s\n",
      "[CV] criterion=gini, max_leaf_nodes=47, splitter=best ................\n",
      "[CV]  criterion=gini, max_leaf_nodes=47, splitter=best, score=0.870, total=   0.0s\n",
      "[CV] criterion=gini, max_leaf_nodes=47, splitter=best ................\n",
      "[CV]  criterion=gini, max_leaf_nodes=47, splitter=best, score=0.867, total=   0.0s\n",
      "[CV] criterion=gini, max_leaf_nodes=47, splitter=best ................\n",
      "[CV]  criterion=gini, max_leaf_nodes=47, splitter=best, score=0.855, total=   0.0s\n",
      "[CV] criterion=gini, max_leaf_nodes=47, splitter=best ................\n",
      "[CV]  criterion=gini, max_leaf_nodes=47, splitter=best, score=0.859, total=   0.0s\n",
      "[CV] criterion=gini, max_leaf_nodes=47, splitter=random ..............\n",
      "[CV]  criterion=gini, max_leaf_nodes=47, splitter=random, score=0.870, total=   0.0s\n",
      "[CV] criterion=gini, max_leaf_nodes=47, splitter=random ..............\n",
      "[CV]  criterion=gini, max_leaf_nodes=47, splitter=random, score=0.872, total=   0.0s\n",
      "[CV] criterion=gini, max_leaf_nodes=47, splitter=random ..............\n",
      "[CV]  criterion=gini, max_leaf_nodes=47, splitter=random, score=0.869, total=   0.0s\n",
      "[CV] criterion=gini, max_leaf_nodes=47, splitter=random ..............\n",
      "[CV]  criterion=gini, max_leaf_nodes=47, splitter=random, score=0.847, total=   0.0s\n",
      "[CV] criterion=gini, max_leaf_nodes=47, splitter=random ..............\n",
      "[CV]  criterion=gini, max_leaf_nodes=47, splitter=random, score=0.856, total=   0.0s\n",
      "[CV] criterion=gini, max_leaf_nodes=69, splitter=best ................\n",
      "[CV]  criterion=gini, max_leaf_nodes=69, splitter=best, score=0.887, total=   0.0s\n",
      "[CV] criterion=gini, max_leaf_nodes=69, splitter=best ................\n",
      "[CV]  criterion=gini, max_leaf_nodes=69, splitter=best, score=0.867, total=   0.0s\n",
      "[CV] criterion=gini, max_leaf_nodes=69, splitter=best ................\n",
      "[CV]  criterion=gini, max_leaf_nodes=69, splitter=best, score=0.861, total=   0.0s\n",
      "[CV] criterion=gini, max_leaf_nodes=69, splitter=best ................\n",
      "[CV]  criterion=gini, max_leaf_nodes=69, splitter=best, score=0.857, total=   0.0s\n",
      "[CV] criterion=gini, max_leaf_nodes=69, splitter=best ................\n",
      "[CV]  criterion=gini, max_leaf_nodes=69, splitter=best, score=0.857, total=   0.0s\n",
      "[CV] criterion=gini, max_leaf_nodes=69, splitter=random ..............\n",
      "[CV]  criterion=gini, max_leaf_nodes=69, splitter=random, score=0.864, total=   0.0s\n",
      "[CV] criterion=gini, max_leaf_nodes=69, splitter=random ..............\n",
      "[CV]  criterion=gini, max_leaf_nodes=69, splitter=random, score=0.881, total=   0.0s\n",
      "[CV] criterion=gini, max_leaf_nodes=69, splitter=random ..............\n",
      "[CV]  criterion=gini, max_leaf_nodes=69, splitter=random, score=0.877, total=   0.0s\n",
      "[CV] criterion=gini, max_leaf_nodes=69, splitter=random ..............\n",
      "[CV]  criterion=gini, max_leaf_nodes=69, splitter=random, score=0.858, total=   0.0s\n",
      "[CV] criterion=gini, max_leaf_nodes=69, splitter=random ..............\n"
     ]
    },
    {
     "name": "stderr",
     "output_type": "stream",
     "text": [
      "[Parallel(n_jobs=1)]: Using backend SequentialBackend with 1 concurrent workers.\n",
      "[Parallel(n_jobs=1)]: Done   1 out of   1 | elapsed:    0.0s remaining:    0.0s\n",
      "[Parallel(n_jobs=1)]: Done   2 out of   2 | elapsed:    0.0s remaining:    0.0s\n"
     ]
    },
    {
     "name": "stdout",
     "output_type": "stream",
     "text": [
      "[CV]  criterion=gini, max_leaf_nodes=69, splitter=random, score=0.856, total=   0.0s\n",
      "[CV] criterion=gini, max_leaf_nodes=420, splitter=best ...............\n",
      "[CV]  criterion=gini, max_leaf_nodes=420, splitter=best, score=0.844, total=   0.0s\n",
      "[CV] criterion=gini, max_leaf_nodes=420, splitter=best ...............\n",
      "[CV]  criterion=gini, max_leaf_nodes=420, splitter=best, score=0.822, total=   0.0s\n",
      "[CV] criterion=gini, max_leaf_nodes=420, splitter=best ...............\n",
      "[CV]  criterion=gini, max_leaf_nodes=420, splitter=best, score=0.843, total=   0.0s\n",
      "[CV] criterion=gini, max_leaf_nodes=420, splitter=best ...............\n",
      "[CV]  criterion=gini, max_leaf_nodes=420, splitter=best, score=0.844, total=   0.0s\n",
      "[CV] criterion=gini, max_leaf_nodes=420, splitter=best ...............\n",
      "[CV]  criterion=gini, max_leaf_nodes=420, splitter=best, score=0.847, total=   0.0s\n",
      "[CV] criterion=gini, max_leaf_nodes=420, splitter=random .............\n",
      "[CV]  criterion=gini, max_leaf_nodes=420, splitter=random, score=0.859, total=   0.0s\n",
      "[CV] criterion=gini, max_leaf_nodes=420, splitter=random .............\n",
      "[CV]  criterion=gini, max_leaf_nodes=420, splitter=random, score=0.858, total=   0.0s\n",
      "[CV] criterion=gini, max_leaf_nodes=420, splitter=random .............\n",
      "[CV]  criterion=gini, max_leaf_nodes=420, splitter=random, score=0.858, total=   0.0s\n",
      "[CV] criterion=gini, max_leaf_nodes=420, splitter=random .............\n",
      "[CV]  criterion=gini, max_leaf_nodes=420, splitter=random, score=0.845, total=   0.0s\n",
      "[CV] criterion=gini, max_leaf_nodes=420, splitter=random .............\n",
      "[CV]  criterion=gini, max_leaf_nodes=420, splitter=random, score=0.849, total=   0.0s\n",
      "[CV] criterion=entropy, max_leaf_nodes=13, splitter=best .............\n",
      "[CV]  criterion=entropy, max_leaf_nodes=13, splitter=best, score=0.885, total=   0.0s\n",
      "[CV] criterion=entropy, max_leaf_nodes=13, splitter=best .............\n",
      "[CV]  criterion=entropy, max_leaf_nodes=13, splitter=best, score=0.880, total=   0.0s\n",
      "[CV] criterion=entropy, max_leaf_nodes=13, splitter=best .............\n",
      "[CV]  criterion=entropy, max_leaf_nodes=13, splitter=best, score=0.878, total=   0.0s\n",
      "[CV] criterion=entropy, max_leaf_nodes=13, splitter=best .............\n",
      "[CV]  criterion=entropy, max_leaf_nodes=13, splitter=best, score=0.865, total=   0.0s\n",
      "[CV] criterion=entropy, max_leaf_nodes=13, splitter=best .............\n",
      "[CV]  criterion=entropy, max_leaf_nodes=13, splitter=best, score=0.863, total=   0.0s\n",
      "[CV] criterion=entropy, max_leaf_nodes=13, splitter=random ...........\n",
      "[CV]  criterion=entropy, max_leaf_nodes=13, splitter=random, score=0.868, total=   0.0s\n",
      "[CV] criterion=entropy, max_leaf_nodes=13, splitter=random ...........\n",
      "[CV]  criterion=entropy, max_leaf_nodes=13, splitter=random, score=0.888, total=   0.0s\n",
      "[CV] criterion=entropy, max_leaf_nodes=13, splitter=random ...........\n",
      "[CV]  criterion=entropy, max_leaf_nodes=13, splitter=random, score=0.757, total=   0.0s\n",
      "[CV] criterion=entropy, max_leaf_nodes=13, splitter=random ...........\n",
      "[CV]  criterion=entropy, max_leaf_nodes=13, splitter=random, score=0.835, total=   0.0s\n",
      "[CV] criterion=entropy, max_leaf_nodes=13, splitter=random ...........\n",
      "[CV]  criterion=entropy, max_leaf_nodes=13, splitter=random, score=0.854, total=   0.0s\n",
      "[CV] criterion=entropy, max_leaf_nodes=47, splitter=best .............\n",
      "[CV]  criterion=entropy, max_leaf_nodes=47, splitter=best, score=0.873, total=   0.0s\n",
      "[CV] criterion=entropy, max_leaf_nodes=47, splitter=best .............\n",
      "[CV]  criterion=entropy, max_leaf_nodes=47, splitter=best, score=0.885, total=   0.0s\n",
      "[CV] criterion=entropy, max_leaf_nodes=47, splitter=best .............\n",
      "[CV]  criterion=entropy, max_leaf_nodes=47, splitter=best, score=0.876, total=   0.0s\n",
      "[CV] criterion=entropy, max_leaf_nodes=47, splitter=best .............\n",
      "[CV]  criterion=entropy, max_leaf_nodes=47, splitter=best, score=0.863, total=   0.0s\n",
      "[CV] criterion=entropy, max_leaf_nodes=47, splitter=best .............\n",
      "[CV]  criterion=entropy, max_leaf_nodes=47, splitter=best, score=0.833, total=   0.0s\n",
      "[CV] criterion=entropy, max_leaf_nodes=47, splitter=random ...........\n",
      "[CV]  criterion=entropy, max_leaf_nodes=47, splitter=random, score=0.867, total=   0.0s\n",
      "[CV] criterion=entropy, max_leaf_nodes=47, splitter=random ...........\n",
      "[CV]  criterion=entropy, max_leaf_nodes=47, splitter=random, score=0.861, total=   0.0s\n",
      "[CV] criterion=entropy, max_leaf_nodes=47, splitter=random ...........\n",
      "[CV]  criterion=entropy, max_leaf_nodes=47, splitter=random, score=0.869, total=   0.0s\n",
      "[CV] criterion=entropy, max_leaf_nodes=47, splitter=random ...........\n",
      "[CV]  criterion=entropy, max_leaf_nodes=47, splitter=random, score=0.859, total=   0.0s\n",
      "[CV] criterion=entropy, max_leaf_nodes=47, splitter=random ...........\n",
      "[CV]  criterion=entropy, max_leaf_nodes=47, splitter=random, score=0.844, total=   0.0s\n",
      "[CV] criterion=entropy, max_leaf_nodes=69, splitter=best .............\n",
      "[CV]  criterion=entropy, max_leaf_nodes=69, splitter=best, score=0.874, total=   0.0s\n",
      "[CV] criterion=entropy, max_leaf_nodes=69, splitter=best .............\n",
      "[CV]  criterion=entropy, max_leaf_nodes=69, splitter=best, score=0.885, total=   0.0s\n",
      "[CV] criterion=entropy, max_leaf_nodes=69, splitter=best .............\n",
      "[CV]  criterion=entropy, max_leaf_nodes=69, splitter=best, score=0.874, total=   0.0s\n",
      "[CV] criterion=entropy, max_leaf_nodes=69, splitter=best .............\n",
      "[CV]  criterion=entropy, max_leaf_nodes=69, splitter=best, score=0.860, total=   0.0s\n",
      "[CV] criterion=entropy, max_leaf_nodes=69, splitter=best .............\n",
      "[CV]  criterion=entropy, max_leaf_nodes=69, splitter=best, score=0.826, total=   0.0s\n",
      "[CV] criterion=entropy, max_leaf_nodes=69, splitter=random ...........\n",
      "[CV]  criterion=entropy, max_leaf_nodes=69, splitter=random, score=0.888, total=   0.0s\n",
      "[CV] criterion=entropy, max_leaf_nodes=69, splitter=random ...........\n",
      "[CV]  criterion=entropy, max_leaf_nodes=69, splitter=random, score=0.855, total=   0.0s\n",
      "[CV] criterion=entropy, max_leaf_nodes=69, splitter=random ...........\n",
      "[CV]  criterion=entropy, max_leaf_nodes=69, splitter=random, score=0.867, total=   0.0s\n",
      "[CV] criterion=entropy, max_leaf_nodes=69, splitter=random ...........\n",
      "[CV]  criterion=entropy, max_leaf_nodes=69, splitter=random, score=0.826, total=   0.0s\n",
      "[CV] criterion=entropy, max_leaf_nodes=69, splitter=random ...........\n",
      "[CV]  criterion=entropy, max_leaf_nodes=69, splitter=random, score=0.852, total=   0.0s\n",
      "[CV] criterion=entropy, max_leaf_nodes=420, splitter=best ............\n",
      "[CV]  criterion=entropy, max_leaf_nodes=420, splitter=best, score=0.843, total=   0.0s\n",
      "[CV] criterion=entropy, max_leaf_nodes=420, splitter=best ............\n",
      "[CV]  criterion=entropy, max_leaf_nodes=420, splitter=best, score=0.825, total=   0.0s\n",
      "[CV] criterion=entropy, max_leaf_nodes=420, splitter=best ............\n",
      "[CV]  criterion=entropy, max_leaf_nodes=420, splitter=best, score=0.836, total=   0.0s\n",
      "[CV] criterion=entropy, max_leaf_nodes=420, splitter=best ............\n",
      "[CV]  criterion=entropy, max_leaf_nodes=420, splitter=best, score=0.831, total=   0.0s\n",
      "[CV] criterion=entropy, max_leaf_nodes=420, splitter=best ............\n",
      "[CV]  criterion=entropy, max_leaf_nodes=420, splitter=best, score=0.835, total=   0.0s\n",
      "[CV] criterion=entropy, max_leaf_nodes=420, splitter=random ..........\n",
      "[CV]  criterion=entropy, max_leaf_nodes=420, splitter=random, score=0.866, total=   0.0s\n",
      "[CV] criterion=entropy, max_leaf_nodes=420, splitter=random ..........\n",
      "[CV]  criterion=entropy, max_leaf_nodes=420, splitter=random, score=0.860, total=   0.0s\n",
      "[CV] criterion=entropy, max_leaf_nodes=420, splitter=random ..........\n",
      "[CV]  criterion=entropy, max_leaf_nodes=420, splitter=random, score=0.847, total=   0.0s\n",
      "[CV] criterion=entropy, max_leaf_nodes=420, splitter=random ..........\n",
      "[CV]  criterion=entropy, max_leaf_nodes=420, splitter=random, score=0.857, total=   0.0s\n",
      "[CV] criterion=entropy, max_leaf_nodes=420, splitter=random ..........\n",
      "[CV]  criterion=entropy, max_leaf_nodes=420, splitter=random, score=0.850, total=   0.0s\n"
     ]
    },
    {
     "name": "stderr",
     "output_type": "stream",
     "text": [
      "[Parallel(n_jobs=1)]: Done  80 out of  80 | elapsed:    0.6s finished\n"
     ]
    },
    {
     "data": {
      "text/plain": [
       "0.8861556064073226"
      ]
     },
     "execution_count": 19,
     "metadata": {},
     "output_type": "execute_result"
    }
   ],
   "source": [
    "# Use GridSearch to tune model parameters\n",
    "t = tree.DecisionTreeClassifier()\n",
    "\n",
    "param_grid = {'criterion': ['gini', 'entropy'],\n",
    "              'splitter': ['best', 'random'],\n",
    "              'max_leaf_nodes': [13, 47, 69, 420]}\n",
    "grid_clf = GridSearchCV(t, param_grid, verbose=3)\n",
    "\n",
    "grid_clf.fit(X_train, y_train.toarray())\n",
    "\n",
    "grid_clf.score(X_test, y_test.toarray())"
   ]
  },
  {
   "cell_type": "code",
   "execution_count": 20,
   "metadata": {},
   "outputs": [
    {
     "data": {
      "text/plain": [
       "['model_1.sav']"
      ]
     },
     "execution_count": 20,
     "metadata": {},
     "output_type": "execute_result"
    }
   ],
   "source": [
    "# Save the model\n",
    "\n",
    "filename = 'model_1.sav'\n",
    "joblib.dump(grid_clf, filename)"
   ]
  },
  {
   "cell_type": "code",
   "execution_count": null,
   "metadata": {},
   "outputs": [],
   "source": []
  }
 ],
 "metadata": {
  "kernel_info": {
   "name": "dev"
  },
  "kernelspec": {
   "display_name": "Python [conda env:root]",
   "language": "python",
   "name": "conda-root-py"
  },
  "language_info": {
   "codemirror_mode": {
    "name": "ipython",
    "version": 3
   },
   "file_extension": ".py",
   "mimetype": "text/x-python",
   "name": "python",
   "nbconvert_exporter": "python",
   "pygments_lexer": "ipython3",
   "version": "3.7.6"
  },
  "nteract": {
   "version": "0.12.3"
  }
 },
 "nbformat": 4,
 "nbformat_minor": 2
}
